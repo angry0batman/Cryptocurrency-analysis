{
 "cells": [
  {
   "cell_type": "code",
   "execution_count": 3,
   "metadata": {},
   "outputs": [
    {
     "name": "stdout",
     "output_type": "stream",
     "text": [
      "HTTP error occurred: 403 Client Error: Forbidden for url: https://www.coingecko.com/\n"
     ]
    }
   ],
   "source": [
    "import requests\n",
    "from bs4 import BeautifulSoup\n",
    "import pandas as pd\n",
    "import time\n",
    "\n",
    "# URL to scrape\n",
    "url = \"https://www.coingecko.com/\"\n",
    "\n",
    "# Creating a session object\n",
    "session = requests.Session()\n",
    "\n",
    "# Headers to mimic a browser visit\n",
    "headers = {\n",
    "    \"User-Agent\": \"Mozilla/5.0 (Windows NT 10.0; Win64; x64) AppleWebKit/537.36 (KHTML, like Gecko) Chrome/92.0.4515.107 Safari/537.36\",\n",
    "    \"Accept\": \"text/html,application/xhtml+xml,application/xml;q=0.9,image/avif,image/webp,image/apng,*/*;q=0.8\",\n",
    "    \"Accept-Language\": \"en-US,en;q=0.9\",\n",
    "    \"Accept-Encoding\": \"gzip, deflate, br\",\n",
    "    \"Connection\": \"keep-alive\",\n",
    "    \"Upgrade-Insecure-Requests\": \"1\",\n",
    "    \"Cache-Control\": \"max-age=0\",\n",
    "    \"Referer\": \"https://www.google.com/\"  # Pretend coming from a search engine\n",
    "}\n",
    "\n",
    "# Attempting to fetch the webpage\n",
    "try:\n",
    "    response = session.get(url, headers=headers)\n",
    "    response.raise_for_status()  # Raise an HTTPError for bad responses\n",
    "\n",
    "    # Parsing the content\n",
    "    soup = BeautifulSoup(response.content, 'html.parser')\n",
    "\n",
    "    # Extracting data - For example, cryptocurrency names and prices\n",
    "    crypto_data = []\n",
    "    table_rows = soup.select('table tbody tr')  # Selecting rows from the table body\n",
    "\n",
    "    for row in table_rows:\n",
    "        # Extracting the data from each row\n",
    "        name = row.select_one('td.coin-name > div > div > div > a').text.strip()\n",
    "        price = row.select_one('td.td-price > a').text.strip()\n",
    "        market_cap = row.select_one('td.td-market_cap').text.strip()\n",
    "        volume = row.select_one('td.td-liquidity_score').text.strip()\n",
    "\n",
    "        # Appending to the list\n",
    "        crypto_data.append({\n",
    "            'Name': name,\n",
    "            'Price': price,\n",
    "            'Market Cap': market_cap,\n",
    "            'Volume': volume\n",
    "        })\n",
    "\n",
    "    # Creating a DataFrame and saving to Excel\n",
    "    df = pd.DataFrame(crypto_data)\n",
    "    df.to_excel('crypto_data.xlsx', index=False)\n",
    "\n",
    "    print(\"Data has been written to crypto_data.xlsx\")\n",
    "\n",
    "except requests.exceptions.HTTPError as http_err:\n",
    "    print(f\"HTTP error occurred: {http_err}\")\n",
    "except Exception as err:\n",
    "    print(f\"Other error occurred: {err}\")\n"
   ]
  }
 ],
 "metadata": {
  "kernelspec": {
   "display_name": "base",
   "language": "python",
   "name": "python3"
  },
  "language_info": {
   "codemirror_mode": {
    "name": "ipython",
    "version": 3
   },
   "file_extension": ".py",
   "mimetype": "text/x-python",
   "name": "python",
   "nbconvert_exporter": "python",
   "pygments_lexer": "ipython3",
   "version": "3.11.5"
  }
 },
 "nbformat": 4,
 "nbformat_minor": 2
}
